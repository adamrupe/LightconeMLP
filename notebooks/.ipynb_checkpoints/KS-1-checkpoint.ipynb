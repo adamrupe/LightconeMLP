{
 "cells": [
  {
   "cell_type": "code",
   "execution_count": 1,
   "id": "7fb7d8d1",
   "metadata": {},
   "outputs": [
    {
     "data": {
      "text/plain": [
       "train_markov (generic function with 1 method)"
      ]
     },
     "execution_count": 1,
     "metadata": {},
     "output_type": "execute_result"
    }
   ],
   "source": [
    "include(\"./LightconeMLP.jl\")"
   ]
  },
  {
   "cell_type": "code",
   "execution_count": 2,
   "id": "5180473d",
   "metadata": {},
   "outputs": [],
   "source": [
    "import NPZ"
   ]
  },
  {
   "cell_type": "code",
   "execution_count": null,
   "id": "1e4d9284",
   "metadata": {},
   "outputs": [],
   "source": []
  },
  {
   "cell_type": "code",
   "execution_count": 3,
   "id": "bf5a15b8",
   "metadata": {},
   "outputs": [],
   "source": [
    "ks_train = NPZ.npzread(\"./KS_train.npy\");"
   ]
  },
  {
   "cell_type": "code",
   "execution_count": null,
   "id": "5c5034b5",
   "metadata": {},
   "outputs": [],
   "source": [
    "past_depth = 4\n",
    "c = 2"
   ]
  },
  {
   "cell_type": "code",
   "execution_count": null,
   "id": "ceb37b9d",
   "metadata": {},
   "outputs": [],
   "source": [
    "model = lcMLP(past_depth, c)"
   ]
  },
  {
   "cell_type": "code",
   "execution_count": null,
   "id": "3dd4c456",
   "metadata": {},
   "outputs": [],
   "source": [
    "opt = Flux.Optimise.Optimiser(Flux.Optimise.WeightDecay(1e-6), Flux.ADAM(1e-4))"
   ]
  },
  {
   "cell_type": "code",
   "execution_count": null,
   "id": "8429fcd1",
   "metadata": {},
   "outputs": [],
   "source": [
    "scores = [];"
   ]
  },
  {
   "cell_type": "code",
   "execution_count": null,
   "id": "2e2b7d3e",
   "metadata": {},
   "outputs": [],
   "source": [
    "training = stfield_local_data(ks_train, past_depth, c);"
   ]
  },
  {
   "cell_type": "code",
   "execution_count": null,
   "id": "8a6b72b5",
   "metadata": {},
   "outputs": [],
   "source": [
    "data = Flux.Data.DataLoader(training, batchsize=2_000,shuffle=true);"
   ]
  },
  {
   "cell_type": "code",
   "execution_count": null,
   "id": "6810c147",
   "metadata": {},
   "outputs": [],
   "source": [
    "train_local(model, data, 200, opt, scores)"
   ]
  },
  {
   "cell_type": "code",
   "execution_count": null,
   "id": "c3675b81",
   "metadata": {},
   "outputs": [],
   "source": [
    "@JLD2.save \"ks_local_4-2_scores\" scores"
   ]
  },
  {
   "cell_type": "code",
   "execution_count": null,
   "id": "cd874849",
   "metadata": {},
   "outputs": [],
   "source": [
    "BSON.@save \"ks_local_model_4-2.bson\" model"
   ]
  },
  {
   "cell_type": "code",
   "execution_count": null,
   "id": "ccd6ea2f",
   "metadata": {},
   "outputs": [],
   "source": []
  }
 ],
 "metadata": {
  "kernelspec": {
   "display_name": "Julia 1.6.2",
   "language": "julia",
   "name": "julia-1.6"
  },
  "language_info": {
   "file_extension": ".jl",
   "mimetype": "application/julia",
   "name": "julia",
   "version": "1.6.2"
  }
 },
 "nbformat": 4,
 "nbformat_minor": 5
}
